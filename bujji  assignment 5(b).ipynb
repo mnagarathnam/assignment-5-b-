{
 "cells": [
  {
   "cell_type": "code",
   "execution_count": 2,
   "id": "a97fd65f",
   "metadata": {},
   "outputs": [
    {
     "name": "stdout",
     "output_type": "stream",
     "text": [
      "25 you are Teen Age\n"
     ]
    }
   ],
   "source": [
    "My_Age=25\n",
    "if My_Age>20:\n",
    "    print(My_Age,\"you are Teen Age\")\n",
    "else:\n",
    "    print(\"you are younger age\")"
   ]
  },
  {
   "cell_type": "code",
   "execution_count": 7,
   "id": "fbc8935f",
   "metadata": {},
   "outputs": [
    {
     "name": "stdout",
     "output_type": "stream",
     "text": [
      "30 you are young Age\n"
     ]
    }
   ],
   "source": [
    "My_Age=30\n",
    "if My_Age==30:\n",
    "    print(My_Age,\"you are young Age\")\n",
    "else:\n",
    "    print(\"you are teen age\")"
   ]
  },
  {
   "cell_type": "code",
   "execution_count": 8,
   "id": "7d47c121",
   "metadata": {},
   "outputs": [
    {
     "name": "stdout",
     "output_type": "stream",
     "text": [
      "10 you are children\n"
     ]
    }
   ],
   "source": [
    "My_Age=10\n",
    "if My_Age==10:\n",
    "    print(My_Age,\"you are children\")\n",
    "else:\n",
    "    print(\"you are teen_age\")\n"
   ]
  },
  {
   "cell_type": "code",
   "execution_count": 9,
   "id": "27c61613",
   "metadata": {},
   "outputs": [
    {
     "name": "stdout",
     "output_type": "stream",
     "text": [
      "40 you are middle_age\n"
     ]
    }
   ],
   "source": [
    "My_Age=40\n",
    "if My_Age==40:\n",
    "    print(My_Age,\"you are middle_age\")\n",
    "else:\n",
    "    print(\"you are teen age\")"
   ]
  },
  {
   "cell_type": "code",
   "execution_count": 16,
   "id": "9d82706f",
   "metadata": {},
   "outputs": [],
   "source": [
    "#task2"
   ]
  },
  {
   "cell_type": "code",
   "execution_count": null,
   "id": "0409e77d",
   "metadata": {},
   "outputs": [],
   "source": [
    "#today is monday\\tuesday\\wednesday\\thursday\\friday print weekday otherwise print weekend"
   ]
  },
  {
   "cell_type": "code",
   "execution_count": 14,
   "id": "2a6ceb87",
   "metadata": {},
   "outputs": [
    {
     "name": "stdout",
     "output_type": "stream",
     "text": [
      "weekend\n"
     ]
    }
   ],
   "source": [
    "today=\"sunday\"\n",
    "if today==\"monday\":\n",
    "    print(\"this is weekday\")\n",
    "elif today==\"tuesday\":\n",
    "    print(\"this is weekday\")\n",
    "elif today==\"wednesday\":\n",
    "    print(\"this is weekday\")\n",
    "elif today==\"thursday\":\n",
    "    print(\"this is weekday\")\n",
    "elif today==\"friday\":\n",
    "    print(\"this is weekday\")\n",
    "elif today==\"saturday\":\n",
    "    print(\"this is weekend\")\n",
    "else:\n",
    "    print(\"weekend\")"
   ]
  },
  {
   "cell_type": "code",
   "execution_count": 5,
   "id": "13ac6275",
   "metadata": {},
   "outputs": [],
   "source": [
    "#senario1"
   ]
  },
  {
   "cell_type": "code",
   "execution_count": 20,
   "id": "944398a2",
   "metadata": {},
   "outputs": [
    {
     "name": "stdout",
     "output_type": "stream",
     "text": [
      "i am profitable\n"
     ]
    }
   ],
   "source": [
    "profit=19\n",
    "if profit>10:\n",
    "    print(\"i am profitable\")\n",
    "else:\n",
    "    print(\"i am lose\")"
   ]
  },
  {
   "cell_type": "code",
   "execution_count": 3,
   "id": "9c5a83de",
   "metadata": {},
   "outputs": [
    {
     "name": "stdout",
     "output_type": "stream",
     "text": [
      "i lost\n"
     ]
    }
   ],
   "source": [
    "profit=10\n",
    "if profit>10:\n",
    "    print(\"i am profitable\")\n",
    "else:\n",
    "    print(\"i lost\")"
   ]
  },
  {
   "cell_type": "code",
   "execution_count": 4,
   "id": "01d6c773",
   "metadata": {},
   "outputs": [
    {
     "name": "stdout",
     "output_type": "stream",
     "text": [
      "i am profitable\n"
     ]
    }
   ],
   "source": [
    "profit=30\n",
    "if profit>10:\n",
    "    print(\"i am profitable\")\n",
    "else:\n",
    "    print(\"i lost\")"
   ]
  },
  {
   "cell_type": "code",
   "execution_count": null,
   "id": "954f3195",
   "metadata": {},
   "outputs": [],
   "source": [
    "#senario2"
   ]
  },
  {
   "cell_type": "code",
   "execution_count": 22,
   "id": "bc64b0be",
   "metadata": {},
   "outputs": [
    {
     "name": "stdout",
     "output_type": "stream",
     "text": [
      "i am younger\n"
     ]
    }
   ],
   "source": [
    "sister_age=22\n",
    "my_age=20\n",
    "if sister_age<my_age:\n",
    "    print(\"i am elder\")\n",
    "else:\n",
    "    print(\"i am younger\")"
   ]
  },
  {
   "cell_type": "code",
   "execution_count": 11,
   "id": "7e5d4035",
   "metadata": {},
   "outputs": [
    {
     "name": "stdout",
     "output_type": "stream",
     "text": [
      "i am elder\n"
     ]
    }
   ],
   "source": [
    "sister_age=50\n",
    "my_age=40\n",
    "if sister_age>my_age:\n",
    "    print(\"i am elder\")\n",
    "else:\n",
    "    print(\"i am younger\")"
   ]
  },
  {
   "cell_type": "code",
   "execution_count": null,
   "id": "6eeffdcf",
   "metadata": {},
   "outputs": [],
   "source": [
    "#senario3"
   ]
  },
  {
   "cell_type": "code",
   "execution_count": 26,
   "id": "78ea9c03",
   "metadata": {},
   "outputs": [
    {
     "name": "stdout",
     "output_type": "stream",
     "text": [
      "30%discount\n"
     ]
    }
   ],
   "source": [
    "purchase=110\n",
    "if purchase>100:\n",
    "    print(\"30%discount\")\n",
    "elif purchase<50:\n",
    "    print(\"10%discount\")\n",
    "else:\n",
    "    print(\"20%discount\")"
   ]
  },
  {
   "cell_type": "code",
   "execution_count": null,
   "id": "5a7026ba",
   "metadata": {},
   "outputs": [],
   "source": [
    "#senario4"
   ]
  },
  {
   "cell_type": "code",
   "execution_count": 30,
   "id": "bc9f2183",
   "metadata": {},
   "outputs": [
    {
     "name": "stdout",
     "output_type": "stream",
     "text": [
      "bench\n"
     ]
    }
   ],
   "source": [
    "theater_price=\n",
    "if theater_price==140:\n",
    "    print(\"balcony\")\n",
    "elif theater_price==50:\n",
    "    print(\"chair\")\n",
    "else:\n",
    "    print(\"bench\")"
   ]
  },
  {
   "cell_type": "code",
   "execution_count": 12,
   "id": "fb445e69",
   "metadata": {},
   "outputs": [
    {
     "name": "stdout",
     "output_type": "stream",
     "text": [
      "bench\n"
     ]
    }
   ],
   "source": [
    "theater_price=60\n",
    "if theater_price==140:\n",
    "    print(\"balcony\")\n",
    "elif theater_price==50:\n",
    "    print(\"chair\")\n",
    "else:\n",
    "    print(\"bench\")"
   ]
  },
  {
   "cell_type": "code",
   "execution_count": 17,
   "id": "994691f7",
   "metadata": {},
   "outputs": [
    {
     "name": "stdout",
     "output_type": "stream",
     "text": [
      "balcony\n"
     ]
    }
   ],
   "source": [
    "theater_price=140\n",
    "if theater_price==140:\n",
    "    print(\"balcony\")\n",
    "elif theater_price==150:\n",
    "    print(\"chair\")\n",
    "else:\n",
    "    print(\"bench\")"
   ]
  },
  {
   "cell_type": "code",
   "execution_count": 16,
   "id": "db3f7b5d",
   "metadata": {},
   "outputs": [
    {
     "name": "stdout",
     "output_type": "stream",
     "text": [
      "tickets not available\n"
     ]
    }
   ],
   "source": [
    "theater_price=55\n",
    "if theater_price==140:\n",
    "    print(\"balcony\")\n",
    "elif theater_price==50:\n",
    "    print(\"chair\")\n",
    "elif theater_price==100:\n",
    "    print(\"bench\")\n",
    "else:\n",
    "    print(\"tickets not available\")"
   ]
  },
  {
   "cell_type": "code",
   "execution_count": null,
   "id": "70d700c5",
   "metadata": {},
   "outputs": [],
   "source": [
    "#senario5"
   ]
  },
  {
   "cell_type": "code",
   "execution_count": 34,
   "id": "bed6a161",
   "metadata": {},
   "outputs": [
    {
     "name": "stdout",
     "output_type": "stream",
     "text": [
      "not available\n"
     ]
    }
   ],
   "source": [
    "vehicle=\"ten wheeler\"\n",
    "if vehicle==\"two wheeler\":\n",
    "    print(\"bike and scooty\")\n",
    "elif vehicle==\"four wheeler\":\n",
    "    print(\"car,lorry,van,zeep\")\n",
    "else:\n",
    "    print(\"not available\")\n"
   ]
  },
  {
   "cell_type": "code",
   "execution_count": 18,
   "id": "2710a0c1",
   "metadata": {},
   "outputs": [
    {
     "name": "stdout",
     "output_type": "stream",
     "text": [
      "car,lorry,van,zeep\n"
     ]
    }
   ],
   "source": [
    "vehicle=\"four wheeler\"\n",
    "if vehicle==\"two wheeler\":\n",
    "    print(\"bike and scooty\")\n",
    "elif vehicle==\"four wheeler\":\n",
    "    print(\"car,lorry,van,zeep\")\n",
    "else:\n",
    "    print(\"not available\")\n"
   ]
  },
  {
   "cell_type": "code",
   "execution_count": 19,
   "id": "b38c04ea",
   "metadata": {},
   "outputs": [
    {
     "name": "stdout",
     "output_type": "stream",
     "text": [
      "not available\n"
     ]
    }
   ],
   "source": [
    "vehicle=\"three wheeler\"\n",
    "if vehicle==\"two wheeler\":\n",
    "    print(\"bike and scooty\")\n",
    "elif vehicle==\"four wheeler\":\n",
    "    print(\"car,lorry,van,zeep\")\n",
    "else:\n",
    "    print(\"not available\")\n"
   ]
  },
  {
   "cell_type": "code",
   "execution_count": null,
   "id": "d1e31523",
   "metadata": {},
   "outputs": [],
   "source": []
  }
 ],
 "metadata": {
  "kernelspec": {
   "display_name": "Python 3 (ipykernel)",
   "language": "python",
   "name": "python3"
  },
  "language_info": {
   "codemirror_mode": {
    "name": "ipython",
    "version": 3
   },
   "file_extension": ".py",
   "mimetype": "text/x-python",
   "name": "python",
   "nbconvert_exporter": "python",
   "pygments_lexer": "ipython3",
   "version": "3.10.9"
  }
 },
 "nbformat": 4,
 "nbformat_minor": 5
}
